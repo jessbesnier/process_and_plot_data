{
 "cells": [
  {
   "cell_type": "markdown",
   "metadata": {},
   "source": [
    "Created for basic linear regression, polynomial regression, and multiple regression\n",
    "Jessica Besnier\n",
    "June 2022"
   ]
  },
  {
   "cell_type": "code",
   "execution_count": 1,
   "metadata": {},
   "outputs": [],
   "source": [
    "import matplotlib.pyplot as plt\n",
    "from scipy import stats\n",
    "import numpy as np\n",
    "from sklearn.metrics import r2_score\n",
    "import pandas as pd\n",
    "from sklearn import linear_model\n",
    "from sklearn.preprocessing import StandardScaler\n",
    "import datetime\n",
    "from datetime import datetime \n",
    "\n"
   ]
  },
  {
   "cell_type": "markdown",
   "metadata": {},
   "source": [
    "Linear Regression, R value, and value prediction"
   ]
  },
  {
   "cell_type": "code",
   "execution_count": 6,
   "metadata": {},
   "outputs": [
    {
     "data": {
      "image/png": "[encoded data removed]",
      "text/plain": [
       "<Figure size 432x288 with 1 Axes>"
      ]
     },
     "metadata": {
      "needs_background": "light"
     },
     "output_type": "display_data"
    },
    {
     "name": "stdout",
     "output_type": "stream",
     "text": [
      "the R value is -0.7586\n",
      "y= -1.75 x + 103.11\n"
     ]
    }
   ],
   "source": [
    "#linear regression scatterplot and line\n",
    "x = [5,7,8,7,2,17,2,9,4,11,12,9,6]\n",
    "y = [99,86,87,88,111,86,103,87,94,78,77,85,86]\n",
    "\n",
    "slope, intercept, r, p, std_err = stats.linregress(x, y)\n",
    "\n",
    "\n",
    "def myfunc(x):\n",
    "    return slope*x + intercept\n",
    "\n",
    "mymodel = list(map(myfunc,x))\n",
    "\n",
    "plt.scatter(x, y)\n",
    "plt.plot(x, mymodel)\n",
    "plt.show()\n",
    "\n",
    "#get r value to see how well data fits in linear regression\n",
    "print('the R value is', round(r,4))\n",
    "print ('y=', round(slope,2), 'x +', round(intercept,2) )\n"
   ]
  },
  {
   "cell_type": "code",
   "execution_count": 6,
   "metadata": {},
   "outputs": [
    {
     "name": "stdout",
     "output_type": "stream",
     "text": [
      "the predcited y value for the given x value is 85.59308314937454\n"
     ]
    }
   ],
   "source": [
    "# to predict future values: \n",
    "pvx = 10\n",
    "predict_value = myfunc(pvx)\n",
    "print('the predcited y value for the given x value is', predict_value)"
   ]
  },
  {
   "cell_type": "markdown",
   "metadata": {},
   "source": [
    "Polynomial Regression, R2, Value Precition"
   ]
  },
  {
   "cell_type": "code",
   "execution_count": 7,
   "metadata": {},
   "outputs": [
    {
     "data": {
      "image/png": "[encoded data removed]",
      "text/plain": [
       "<Figure size 432x288 with 1 Axes>"
      ]
     },
     "metadata": {
      "needs_background": "light"
     },
     "output_type": "display_data"
    },
    {
     "name": "stdout",
     "output_type": "stream",
     "text": [
      "the R2 value is 0.9432150416451026\n"
     ]
    }
   ],
   "source": [
    "#polynomial regression\n",
    "x = [1,2,3,5,6,7,8,9,10,12,13,14,15,16,18,19,21,22]\n",
    "y = [100,90,80,60,60,55,60,65,70,70,75,76,78,79,90,99,99,100]\n",
    "\n",
    "mymodelp = np.poly1d(np.polyfit(x, y, 3))\n",
    "\n",
    "myline = np.linspace(1, 22, 100)\n",
    "\n",
    "plt.scatter(x, y)\n",
    "plt.plot(myline, mymodelp(myline))\n",
    "plt.show()\n",
    "\n",
    "#get R2 value\n",
    "print('the R2 value is',r2_score(y, mymodelp(x)))"
   ]
  },
  {
   "cell_type": "code",
   "execution_count": 8,
   "metadata": {},
   "outputs": [
    {
     "name": "stdout",
     "output_type": "stream",
     "text": [
      "the predicted  y value is 88.87331269697998\n"
     ]
    }
   ],
   "source": [
    "#to predict future values\n",
    "xx= 17\n",
    "predict = mymodelp(xx)\n",
    "print ('the predicted  y value is', predict )"
   ]
  },
  {
   "cell_type": "markdown",
   "metadata": {},
   "source": [
    "Multiple Regression"
   ]
  },
  {
   "cell_type": "code",
   "execution_count": 9,
   "metadata": {},
   "outputs": [
    {
     "name": "stdout",
     "output_type": "stream",
     "text": [
      "the predicted CO2 is [114.75968007]\n",
      "the regression coefficients are  [0.00755095 0.00780526] for weight and volume respectively\n"
     ]
    },
    {
     "name": "stderr",
     "output_type": "stream",
     "text": [
      "c:\\Users\\Jessica Besnier\\anaconda3\\envs\\AGU_data\\lib\\site-packages\\sklearn\\base.py:450: UserWarning: X does not have valid feature names, but LinearRegression was fitted with feature names\n",
      "  warnings.warn(\n"
     ]
    }
   ],
   "source": [
    "df = pd.read_csv(\"E:/internship 2022/cars.csv\")\n",
    "\n",
    "X = df[['Weight', 'Volume']]\n",
    "y = df['CO2']\n",
    "\n",
    "regr = linear_model.LinearRegression()\n",
    "regr.fit(X, y)\n",
    "\n",
    "#predict the CO2 emission of a car where the weight is 2300kg, and the volume is 1300cm3:\n",
    "weight =3300 \n",
    "volume = 1300\n",
    "predictedCO2 = regr.predict([[weight, volume]])\n",
    "\n",
    "#given a 1.3L enginer and 2300 kg, the COs will release _____ every km it drives\n",
    "print('the predicted CO2 is', predictedCO2)\n",
    "\n",
    "#the coefficient values are the X's vs. y \n",
    "print ('the regression coefficients are ', regr.coef_, 'for weight and volume respectively')"
   ]
  },
  {
   "cell_type": "code",
   "execution_count": 10,
   "metadata": {},
   "outputs": [
    {
     "name": "stdout",
     "output_type": "stream",
     "text": [
      "[[-2.10389253 -1.59336644]\n",
      " [-0.55407235 -1.07190106]\n",
      " [-1.52166278 -1.59336644]\n",
      " [-1.78973979 -1.85409913]\n",
      " [-0.63784641 -0.28970299]\n",
      " [-1.52166278 -1.59336644]\n",
      " [-0.76769621 -0.55043568]\n",
      " [ 0.3046118  -0.28970299]\n",
      " [-0.7551301  -0.28970299]\n",
      " [-0.59595938 -0.0289703 ]\n",
      " [-1.30803892 -1.33263375]\n",
      " [-1.26615189 -0.81116837]\n",
      " [-0.7551301  -1.59336644]\n",
      " [-0.16871166 -0.0289703 ]\n",
      " [ 0.14125238 -0.0289703 ]\n",
      " [ 0.15800719 -0.0289703 ]\n",
      " [ 0.3046118  -0.0289703 ]\n",
      " [-0.05142797  1.53542584]\n",
      " [-0.72580918 -0.0289703 ]\n",
      " [ 0.14962979  1.01396046]\n",
      " [ 1.2219378  -0.0289703 ]\n",
      " [ 0.5685001   1.01396046]\n",
      " [ 0.3046118   1.27469315]\n",
      " [ 0.51404696 -0.0289703 ]\n",
      " [ 0.51404696  1.01396046]\n",
      " [ 0.72348212 -0.28970299]\n",
      " [ 0.8281997   1.01396046]\n",
      " [ 1.81254495  1.01396046]\n",
      " [ 0.96642691 -0.0289703 ]\n",
      " [ 1.72877089  1.01396046]\n",
      " [ 1.30990057  1.27469315]\n",
      " [ 1.90050772  1.01396046]\n",
      " [-0.23991961 -0.0289703 ]\n",
      " [ 0.40932938 -0.0289703 ]\n",
      " [ 0.47215993 -0.0289703 ]\n",
      " [ 0.4302729   2.31762392]]\n"
     ]
    }
   ],
   "source": [
    "#scaling (makes it easier to compare)\n",
    "\n",
    "scale = StandardScaler()\n",
    "\n",
    "scaledX = scale.fit_transform(X)\n",
    "\n",
    "print(scaledX)\n"
   ]
  },
  {
   "cell_type": "code",
   "execution_count": 11,
   "metadata": {},
   "outputs": [
    {
     "name": "stdout",
     "output_type": "stream",
     "text": [
      "the predicted CO2 is [97.07204485]\n"
     ]
    },
    {
     "name": "stderr",
     "output_type": "stream",
     "text": [
      "c:\\Users\\Jessica Besnier\\anaconda3\\envs\\AGU_data\\lib\\site-packages\\sklearn\\base.py:450: UserWarning: X does not have valid feature names, but StandardScaler was fitted with feature names\n",
      "  warnings.warn(\n"
     ]
    }
   ],
   "source": [
    "#predicting with scaling for a 1.3L car that weights 2300kg\n",
    "scaledX = scale.fit_transform(X)\n",
    "\n",
    "regr = linear_model.LinearRegression()\n",
    "regr.fit(scaledX, y)\n",
    "\n",
    "scaled = scale.transform([[2300, 1.3]])\n",
    "\n",
    "predictedCO2 = regr.predict([scaled[0]])\n",
    "print('the predicted CO2 is', predictedCO2)"
   ]
  },
  {
   "cell_type": "markdown",
   "metadata": {},
   "source": [
    "Training and test datasets"
   ]
  },
  {
   "cell_type": "code",
   "execution_count": 12,
   "metadata": {},
   "outputs": [
    {
     "data": {
      "image/png": "[encoded data removed]",
      "text/plain": [
       "<Figure size 432x288 with 1 Axes>"
      ]
     },
     "metadata": {
      "needs_background": "light"
     },
     "output_type": "display_data"
    }
   ],
   "source": [
    "np.random.seed(2)\n",
    "\n",
    "x = np.random.normal(3, 1, 100)\n",
    "y = np.random.normal(150, 40, 100) / x\n",
    "\n",
    "plt.scatter(x, y)\n",
    "plt.show()"
   ]
  },
  {
   "cell_type": "code",
   "execution_count": 13,
   "metadata": {},
   "outputs": [
    {
     "data": {
      "image/png": "[encoded data removed]",
      "text/plain": [
       "<Figure size 432x288 with 1 Axes>"
      ]
     },
     "metadata": {
      "needs_background": "light"
     },
     "output_type": "display_data"
    },
    {
     "data": {
      "image/png": "[encoded data removed]",
      "text/plain": [
       "<Figure size 432x288 with 1 Axes>"
      ]
     },
     "metadata": {
      "needs_background": "light"
     },
     "output_type": "display_data"
    }
   ],
   "source": [
    "train_x = x[:80]\n",
    "train_y = y[:80]\n",
    "\n",
    "test_x = x[80:]\n",
    "test_y = y[80:]\n",
    "\n",
    "plt.scatter(train_x, train_y)\n",
    "plt.show()\n",
    "\n",
    "plt.scatter(test_x, test_y)\n",
    "plt.show()"
   ]
  },
  {
   "cell_type": "code",
   "execution_count": 14,
   "metadata": {},
   "outputs": [
    {
     "data": {
      "image/png": "[encoded data removed]",
      "text/plain": [
       "<Figure size 432x288 with 1 Axes>"
      ]
     },
     "metadata": {
      "needs_background": "light"
     },
     "output_type": "display_data"
    },
    {
     "name": "stdout",
     "output_type": "stream",
     "text": [
      "0.79886455446298\n"
     ]
    }
   ],
   "source": [
    "np.random.seed(2)\n",
    "\n",
    "x = np.random.normal(3, 1, 100)\n",
    "y = np.random.normal(150, 40, 100) / x\n",
    "\n",
    "train_x = x[:80]\n",
    "train_y = y[:80]\n",
    "\n",
    "test_x = x[80:]\n",
    "test_y = y[80:]\n",
    "\n",
    "mymodel = np.poly1d(np.polyfit(train_x, train_y, 4))\n",
    "\n",
    "myline = np.linspace(0, 6, 100)\n",
    "\n",
    "plt.scatter(train_x, train_y)\n",
    "plt.plot(myline, mymodel(myline))\n",
    "plt.show()\n",
    "\n",
    "r2 = r2_score(train_y, mymodel(train_x))\n",
    "\n",
    "print(r2)"
   ]
  },
  {
   "cell_type": "code",
   "execution_count": 15,
   "metadata": {},
   "outputs": [
    {
     "name": "stdout",
     "output_type": "stream",
     "text": [
      "0.8086921460343683\n",
      "22.879625918122315\n"
     ]
    }
   ],
   "source": [
    "np.random.seed(2)\n",
    "\n",
    "x = np.random.normal(3, 1, 100)\n",
    "y = np.random.normal(150, 40, 100) / x\n",
    "\n",
    "train_x = x[:80]\n",
    "train_y = y[:80]\n",
    "\n",
    "test_x = x[80:]\n",
    "test_y = y[80:]\n",
    "\n",
    "mymodel = np.poly1d(np.polyfit(train_x, train_y, 4))\n",
    "\n",
    "r2 = r2_score(test_y, mymodel(test_x))\n",
    "\n",
    "print(r2)\n",
    "\n",
    "print(mymodel(5))\n"
   ]
  }
 ],
 "metadata": {
  "kernelspec": {
   "display_name": "Python 3.8.13 ('AGU_data')",
   "language": "python",
   "name": "python3"
  },
  "language_info": {
   "codemirror_mode": {
    "name": "ipython",
    "version": 3
   },
   "file_extension": ".py",
   "mimetype": "text/x-python",
   "name": "python",
   "nbconvert_exporter": "python",
   "pygments_lexer": "ipython3",
   "version": "3.8.13"
  },
  "orig_nbformat": 4,
  "vscode": {
   "interpreter": {
    "hash": "1efbbed0949bc9bf97759d340dd4c4f06500019454686e067c1f3da38a089b4e"
   }
  }
 },
 "nbformat": 4,
 "nbformat_minor": 2
}
