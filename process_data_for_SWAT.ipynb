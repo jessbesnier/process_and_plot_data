{
 "cells": [
  {
   "cell_type": "code",
   "execution_count": null,
   "metadata": {},
   "outputs": [],
   "source": [
    "import pandas as pd\n",
    "\n",
    "# Read the dataset into a DataFrame\n",
    "df = pd.read_csv('hourly_data.csv')\n",
    "\n",
    "# Convert the 'Timestamp' column to datetime format\n",
    "df['Timestamp'] = pd.to_datetime(df['Timestamp'])\n",
    "\n",
    "# Set the 'Timestamp' column as the index\n",
    "df.set_index('Timestamp', inplace=True)\n",
    "\n",
    "# Resample the data to daily frequency and calculate the minimum, maximum, and average\n",
    "df_daily = df.resample('D').agg({'Value': ['min', 'max', 'mean']})\n",
    "\n",
    "# Rename the columns\n",
    "df_daily.columns = ['Minimum', 'Maximum', 'Average']\n",
    "\n",
    "# Print the daily statistics\n",
    "print(df_daily)\n",
    "\n"
   ]
  },
  {
   "cell_type": "code",
   "execution_count": null,
   "metadata": {},
   "outputs": [],
   "source": [
    "#Dataframe to csv\n",
    "df_daily.to_csv('C:\\Users\\Jessica Besnier\\Documents\\Personal\\Ireland\\data\\SWAT\\weather_data\\relative_humidity\\reformatted_data.csv')"
   ]
  }
 ],
 "metadata": {
  "language_info": {
   "name": "python"
  },
  "orig_nbformat": 4
 },
 "nbformat": 4,
 "nbformat_minor": 2
}
